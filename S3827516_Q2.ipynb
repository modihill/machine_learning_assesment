{
 "cells": [
  {
   "cell_type": "markdown",
   "metadata": {},
   "source": [
    "## *Table of Contents (Question 2)*\n",
    "\n",
    "### **[Part A](#a)**\n",
    "### **[Part B](#b)**\n",
    "### **[Part C](#c)**\n",
    "### **[Part D](#d)**"
   ]
  },
  {
   "cell_type": "code",
   "execution_count": 1,
   "metadata": {},
   "outputs": [],
   "source": [
    "import warnings\n",
    "warnings.filterwarnings(\"ignore\")"
   ]
  },
  {
   "cell_type": "code",
   "execution_count": 2,
   "metadata": {},
   "outputs": [],
   "source": [
    "import pandas as pd\n",
    "import numpy as np\n",
    "import matplotlib.pyplot as plt\n",
    "from math import sqrt\n",
    "pd.set_option('display.max_columns', None)"
   ]
  },
  {
   "cell_type": "code",
   "execution_count": 3,
   "metadata": {},
   "outputs": [
    {
     "data": {
      "text/html": [
       "<div>\n",
       "<style scoped>\n",
       "    .dataframe tbody tr th:only-of-type {\n",
       "        vertical-align: middle;\n",
       "    }\n",
       "\n",
       "    .dataframe tbody tr th {\n",
       "        vertical-align: top;\n",
       "    }\n",
       "\n",
       "    .dataframe thead th {\n",
       "        text-align: right;\n",
       "    }\n",
       "</style>\n",
       "<table border=\"1\" class=\"dataframe\">\n",
       "  <thead>\n",
       "    <tr style=\"text-align: right;\">\n",
       "      <th></th>\n",
       "      <th>cut</th>\n",
       "      <th>color</th>\n",
       "      <th>depth</th>\n",
       "      <th>price</th>\n",
       "      <th>carat</th>\n",
       "    </tr>\n",
       "  </thead>\n",
       "  <tbody>\n",
       "    <tr>\n",
       "      <th>0</th>\n",
       "      <td>Good</td>\n",
       "      <td>D</td>\n",
       "      <td>63.6</td>\n",
       "      <td>low</td>\n",
       "      <td>0.44</td>\n",
       "    </tr>\n",
       "    <tr>\n",
       "      <th>1</th>\n",
       "      <td>Fair</td>\n",
       "      <td>F</td>\n",
       "      <td>64.2</td>\n",
       "      <td>low</td>\n",
       "      <td>0.45</td>\n",
       "    </tr>\n",
       "    <tr>\n",
       "      <th>2</th>\n",
       "      <td>Good</td>\n",
       "      <td>I</td>\n",
       "      <td>60.4</td>\n",
       "      <td>low</td>\n",
       "      <td>0.50</td>\n",
       "    </tr>\n",
       "    <tr>\n",
       "      <th>3</th>\n",
       "      <td>Good</td>\n",
       "      <td>F</td>\n",
       "      <td>56.8</td>\n",
       "      <td>low</td>\n",
       "      <td>0.45</td>\n",
       "    </tr>\n",
       "    <tr>\n",
       "      <th>4</th>\n",
       "      <td>Fair</td>\n",
       "      <td>F</td>\n",
       "      <td>64.3</td>\n",
       "      <td>low</td>\n",
       "      <td>0.45</td>\n",
       "    </tr>\n",
       "    <tr>\n",
       "      <th>5</th>\n",
       "      <td>Fair</td>\n",
       "      <td>F</td>\n",
       "      <td>65.8</td>\n",
       "      <td>low</td>\n",
       "      <td>0.45</td>\n",
       "    </tr>\n",
       "    <tr>\n",
       "      <th>6</th>\n",
       "      <td>Good</td>\n",
       "      <td>D</td>\n",
       "      <td>63.7</td>\n",
       "      <td>low</td>\n",
       "      <td>0.45</td>\n",
       "    </tr>\n",
       "    <tr>\n",
       "      <th>7</th>\n",
       "      <td>Good</td>\n",
       "      <td>D</td>\n",
       "      <td>63.7</td>\n",
       "      <td>low</td>\n",
       "      <td>0.45</td>\n",
       "    </tr>\n",
       "    <tr>\n",
       "      <th>8</th>\n",
       "      <td>Good</td>\n",
       "      <td>D</td>\n",
       "      <td>63.2</td>\n",
       "      <td>low</td>\n",
       "      <td>0.46</td>\n",
       "    </tr>\n",
       "    <tr>\n",
       "      <th>9</th>\n",
       "      <td>Fair</td>\n",
       "      <td>F</td>\n",
       "      <td>64.9</td>\n",
       "      <td>low</td>\n",
       "      <td>0.50</td>\n",
       "    </tr>\n",
       "  </tbody>\n",
       "</table>\n",
       "</div>"
      ],
      "text/plain": [
       "    cut color  depth price  carat\n",
       "0  Good     D   63.6   low   0.44\n",
       "1  Fair     F   64.2   low   0.45\n",
       "2  Good     I   60.4   low   0.50\n",
       "3  Good     F   56.8   low   0.45\n",
       "4  Fair     F   64.3   low   0.45\n",
       "5  Fair     F   65.8   low   0.45\n",
       "6  Good     D   63.7   low   0.45\n",
       "7  Good     D   63.7   low   0.45\n",
       "8  Good     D   63.2   low   0.46\n",
       "9  Fair     F   64.9   low   0.50"
      ]
     },
     "execution_count": 3,
     "metadata": {},
     "output_type": "execute_result"
    }
   ],
   "source": [
    "# read the data\n",
    "\n",
    "with open('THA_diamonds.csv') as df:\n",
    "    df = pd.read_csv(df, sep=',')\n",
    "df.head(10)"
   ]
  },
  {
   "cell_type": "code",
   "execution_count": 4,
   "metadata": {},
   "outputs": [
    {
     "data": {
      "text/plain": [
       "cut       object\n",
       "color     object\n",
       "depth    float64\n",
       "price     object\n",
       "carat    float64\n",
       "dtype: object"
      ]
     },
     "execution_count": 4,
     "metadata": {},
     "output_type": "execute_result"
    }
   ],
   "source": [
    "# data type \n",
    "\n",
    "df.dtypes"
   ]
  },
  {
   "cell_type": "markdown",
   "metadata": {},
   "source": [
    "### Part A <a name = a></a>"
   ]
  },
  {
   "cell_type": "markdown",
   "metadata": {},
   "source": [
    "The dataset has two numeric or continous feature as `depth` and `carat`. \n",
    "\n",
    "Here, `price` is our **target** feature, while remaining are descriptive features.\n",
    "\n",
    "For decision tree, all variables need to be categorical.\n",
    "\n",
    "Decision tree strats with the `root node (descriptive feature)`, then tree is splits across `unique values (branches)` of that descriptive feature to predict the `target variables (leaf node)`.\n",
    "    \n",
    "Here, we have to generate **`Depth 1 decision tree`** to predict `price` with **Entropy** split criterion.\n",
    "    \n",
    "As `depth` and `carat` are numeric features, we need to **discretize** them."
   ]
  },
  {
   "cell_type": "code",
   "execution_count": 5,
   "metadata": {},
   "outputs": [
    {
     "data": {
      "text/plain": [
       "(array([ 7., 19., 20., 14., 12., 29., 83., 23.,  4.,  1.]),\n",
       " array([55.3 , 56.64, 57.98, 59.32, 60.66, 62.  , 63.34, 64.68, 66.02,\n",
       "        67.36, 68.7 ]),\n",
       " <a list of 10 Patch objects>)"
      ]
     },
     "execution_count": 5,
     "metadata": {},
     "output_type": "execute_result"
    },
    {
     "data": {
      "image/png": "[encoded data removed]",
      "text/plain": [
       "<Figure size 432x288 with 1 Axes>"
      ]
     },
     "metadata": {
      "needs_background": "light"
     },
     "output_type": "display_data"
    }
   ],
   "source": [
    "# histogram of depth \n",
    "\n",
    "plt.hist(df[\"depth\"])"
   ]
  },
  {
   "cell_type": "code",
   "execution_count": 6,
   "metadata": {},
   "outputs": [
    {
     "data": {
      "text/plain": [
       "(array([ 1.,  8., 54., 16., 14., 67., 11.,  9., 26.,  6.]),\n",
       " array([0.32 , 0.389, 0.458, 0.527, 0.596, 0.665, 0.734, 0.803, 0.872,\n",
       "        0.941, 1.01 ]),\n",
       " <a list of 10 Patch objects>)"
      ]
     },
     "execution_count": 6,
     "metadata": {},
     "output_type": "execute_result"
    },
    {
     "data": {
      "image/png": "[encoded data removed]",
      "text/plain": [
       "<Figure size 432x288 with 1 Axes>"
      ]
     },
     "metadata": {
      "needs_background": "light"
     },
     "output_type": "display_data"
    }
   ],
   "source": [
    "# histogram of carat\n",
    "\n",
    "plt.hist(df[\"carat\"])"
   ]
  },
  {
   "cell_type": "markdown",
   "metadata": {},
   "source": [
    "Here, I have shown equal width Histogram of `depth` and `carat` variables.\n",
    "\n",
    "But, we need to **discretize** them with `3 equal frequency`. For that, I have used **qcut** function & assign them 3 categories such as **category_1**, **category_2** and **category_3**."
   ]
  },
  {
   "cell_type": "code",
   "execution_count": 7,
   "metadata": {},
   "outputs": [],
   "source": [
    "# discretize depth and carat into 3 category\n",
    "\n",
    "category = [\"category_1\",\"category_2\",\"category_3\"]\n",
    "df[\"depth\"] = pd.qcut(df[\"depth\"],3,category)\n",
    "df[\"carat\"] = pd.qcut(df[\"carat\"],3,category)"
   ]
  },
  {
   "cell_type": "code",
   "execution_count": 8,
   "metadata": {},
   "outputs": [
    {
     "name": "stdout",
     "output_type": "stream",
     "text": [
      "category_2    74\n",
      "category_1    71\n",
      "category_3    67\n",
      "Name: depth, dtype: int64\n",
      "\n",
      "\n",
      "category_2    79\n",
      "category_1    71\n",
      "category_3    62\n",
      "Name: carat, dtype: int64\n"
     ]
    }
   ],
   "source": [
    "# show counts of each category\n",
    "\n",
    "print(df[\"depth\"].value_counts())\n",
    "print(\"\\n\")\n",
    "print(df[\"carat\"].value_counts())"
   ]
  },
  {
   "cell_type": "markdown",
   "metadata": {},
   "source": [
    "After discretize, counts of each category for both depth and carat features are `approximately same`."
   ]
  },
  {
   "cell_type": "code",
   "execution_count": 9,
   "metadata": {},
   "outputs": [
    {
     "data": {
      "text/plain": [
       "(array([74.,  0.,  0.,  0.,  0., 67.,  0.,  0.,  0., 71.]),\n",
       " array([0. , 0.2, 0.4, 0.6, 0.8, 1. , 1.2, 1.4, 1.6, 1.8, 2. ]),\n",
       " <a list of 10 Patch objects>)"
      ]
     },
     "execution_count": 9,
     "metadata": {},
     "output_type": "execute_result"
    },
    {
     "data": {
      "image/png": "[encoded data removed]",
      "text/plain": [
       "<Figure size 432x288 with 1 Axes>"
      ]
     },
     "metadata": {
      "needs_background": "light"
     },
     "output_type": "display_data"
    }
   ],
   "source": [
    "# histogram of depth after discretize\n",
    "\n",
    "plt.hist(df[\"depth\"])"
   ]
  },
  {
   "cell_type": "code",
   "execution_count": 10,
   "metadata": {},
   "outputs": [
    {
     "data": {
      "text/plain": [
       "(array([71.,  0.,  0.,  0.,  0., 79.,  0.,  0.,  0., 62.]),\n",
       " array([0. , 0.2, 0.4, 0.6, 0.8, 1. , 1.2, 1.4, 1.6, 1.8, 2. ]),\n",
       " <a list of 10 Patch objects>)"
      ]
     },
     "execution_count": 10,
     "metadata": {},
     "output_type": "execute_result"
    },
    {
     "data": {
      "image/png": "[encoded data removed]",
      "text/plain": [
       "<Figure size 432x288 with 1 Axes>"
      ]
     },
     "metadata": {
      "needs_background": "light"
     },
     "output_type": "display_data"
    }
   ],
   "source": [
    "# histogram of carat after discretize\n",
    "\n",
    "plt.hist(df[\"carat\"])"
   ]
  },
  {
   "cell_type": "markdown",
   "metadata": {},
   "source": [
    "After discretize, I moved the target variable `price` to the last, as it is standard practice and showed the first 10 observations."
   ]
  },
  {
   "cell_type": "code",
   "execution_count": 11,
   "metadata": {},
   "outputs": [
    {
     "data": {
      "text/html": [
       "<div>\n",
       "<style scoped>\n",
       "    .dataframe tbody tr th:only-of-type {\n",
       "        vertical-align: middle;\n",
       "    }\n",
       "\n",
       "    .dataframe tbody tr th {\n",
       "        vertical-align: top;\n",
       "    }\n",
       "\n",
       "    .dataframe thead th {\n",
       "        text-align: right;\n",
       "    }\n",
       "</style>\n",
       "<table border=\"1\" class=\"dataframe\">\n",
       "  <thead>\n",
       "    <tr style=\"text-align: right;\">\n",
       "      <th></th>\n",
       "      <th>cut</th>\n",
       "      <th>color</th>\n",
       "      <th>depth</th>\n",
       "      <th>carat</th>\n",
       "      <th>price</th>\n",
       "    </tr>\n",
       "  </thead>\n",
       "  <tbody>\n",
       "    <tr>\n",
       "      <th>0</th>\n",
       "      <td>Good</td>\n",
       "      <td>D</td>\n",
       "      <td>category_2</td>\n",
       "      <td>category_1</td>\n",
       "      <td>low</td>\n",
       "    </tr>\n",
       "    <tr>\n",
       "      <th>1</th>\n",
       "      <td>Fair</td>\n",
       "      <td>F</td>\n",
       "      <td>category_3</td>\n",
       "      <td>category_1</td>\n",
       "      <td>low</td>\n",
       "    </tr>\n",
       "    <tr>\n",
       "      <th>2</th>\n",
       "      <td>Good</td>\n",
       "      <td>I</td>\n",
       "      <td>category_1</td>\n",
       "      <td>category_1</td>\n",
       "      <td>low</td>\n",
       "    </tr>\n",
       "    <tr>\n",
       "      <th>3</th>\n",
       "      <td>Good</td>\n",
       "      <td>F</td>\n",
       "      <td>category_1</td>\n",
       "      <td>category_1</td>\n",
       "      <td>low</td>\n",
       "    </tr>\n",
       "    <tr>\n",
       "      <th>4</th>\n",
       "      <td>Fair</td>\n",
       "      <td>F</td>\n",
       "      <td>category_3</td>\n",
       "      <td>category_1</td>\n",
       "      <td>low</td>\n",
       "    </tr>\n",
       "    <tr>\n",
       "      <th>5</th>\n",
       "      <td>Fair</td>\n",
       "      <td>F</td>\n",
       "      <td>category_3</td>\n",
       "      <td>category_1</td>\n",
       "      <td>low</td>\n",
       "    </tr>\n",
       "    <tr>\n",
       "      <th>6</th>\n",
       "      <td>Good</td>\n",
       "      <td>D</td>\n",
       "      <td>category_2</td>\n",
       "      <td>category_1</td>\n",
       "      <td>low</td>\n",
       "    </tr>\n",
       "    <tr>\n",
       "      <th>7</th>\n",
       "      <td>Good</td>\n",
       "      <td>D</td>\n",
       "      <td>category_2</td>\n",
       "      <td>category_1</td>\n",
       "      <td>low</td>\n",
       "    </tr>\n",
       "    <tr>\n",
       "      <th>8</th>\n",
       "      <td>Good</td>\n",
       "      <td>D</td>\n",
       "      <td>category_2</td>\n",
       "      <td>category_1</td>\n",
       "      <td>low</td>\n",
       "    </tr>\n",
       "    <tr>\n",
       "      <th>9</th>\n",
       "      <td>Fair</td>\n",
       "      <td>F</td>\n",
       "      <td>category_3</td>\n",
       "      <td>category_1</td>\n",
       "      <td>low</td>\n",
       "    </tr>\n",
       "  </tbody>\n",
       "</table>\n",
       "</div>"
      ],
      "text/plain": [
       "    cut color       depth       carat price\n",
       "0  Good     D  category_2  category_1   low\n",
       "1  Fair     F  category_3  category_1   low\n",
       "2  Good     I  category_1  category_1   low\n",
       "3  Good     F  category_1  category_1   low\n",
       "4  Fair     F  category_3  category_1   low\n",
       "5  Fair     F  category_3  category_1   low\n",
       "6  Good     D  category_2  category_1   low\n",
       "7  Good     D  category_2  category_1   low\n",
       "8  Good     D  category_2  category_1   low\n",
       "9  Fair     F  category_3  category_1   low"
      ]
     },
     "execution_count": 11,
     "metadata": {},
     "output_type": "execute_result"
    }
   ],
   "source": [
    "# repositioning the target variable price and showing first 10 records\n",
    "\n",
    "df = df[[\"cut\",\"color\",\"depth\",\"carat\",\"price\"]]\n",
    "df.head(10)"
   ]
  },
  {
   "cell_type": "code",
   "execution_count": 12,
   "metadata": {},
   "outputs": [
    {
     "data": {
      "text/plain": [
       "cut        object\n",
       "color      object\n",
       "depth    category\n",
       "carat    category\n",
       "price      object\n",
       "dtype: object"
      ]
     },
     "execution_count": 12,
     "metadata": {},
     "output_type": "execute_result"
    }
   ],
   "source": [
    "df.dtypes"
   ]
  },
  {
   "cell_type": "markdown",
   "metadata": {},
   "source": [
    "Here, as we can see, the `depth` and `carat` variables are now of category type which were float64 originally."
   ]
  },
  {
   "cell_type": "markdown",
   "metadata": {},
   "source": [
    "### Part B <a name = \"b\"></a>"
   ]
  },
  {
   "cell_type": "markdown",
   "metadata": {},
   "source": [
    "The node impurity is a measure of the homogeneity of the labels at the node.\n",
    "\n",
    "To find the Impurity of price, I used Entropy criteria.\n",
    "\n",
    "Claude Shannon’s entropy model defines a computational measure of the impurity of the elements of a set.\n",
    "\n",
    "Entropy is `uncertainity` of guessing the result for random pick.\n",
    "\n",
    "$$ H(t) = -1\\sum_{i=1}^n (P(t=i)×log2(P(t=i))) $$\n",
    "Where,\n",
    "\n",
    "**n** = number of possible outcomes"
   ]
  },
  {
   "cell_type": "code",
   "execution_count": 13,
   "metadata": {},
   "outputs": [
    {
     "name": "stdout",
     "output_type": "stream",
     "text": [
      "1.716\n"
     ]
    }
   ],
   "source": [
    "# function defination of impurity, which will find the impurity of variable from entropy method\n",
    "\n",
    "def impurity(attribute):\n",
    "    probability = attribute.value_counts(normalize=True)\n",
    "    impurity = -1 * np.sum(probability * np.log2(probability))\n",
    "    return((impurity).round(3))\n",
    "\n",
    "# impurity of price\n",
    "print(impurity(df[\"price\"]))"
   ]
  },
  {
   "cell_type": "markdown",
   "metadata": {},
   "source": [
    "Impurity of price variable is **1.716**"
   ]
  },
  {
   "cell_type": "markdown",
   "metadata": {},
   "source": [
    "### Part C <a name = \"c\"></a>"
   ]
  },
  {
   "cell_type": "markdown",
   "metadata": {},
   "source": [
    "\n",
    "Here, task is to determine the **`root`** node for the decision tree.\n",
    "\n",
    "To determine the root node, we will look at the information gain of each descriptive feature. We will select the feature with **`highest information gain`** as **root node** for decision tree. If we consider that feature as root node, then it is more likely to have `pure subsets` of target feature rather than considering any other node as root node.\n",
    "\n",
    "Information gain is measure of reduction in overall entropy.\n",
    "\n",
    "**Information Gain** can be calculated by following eqations.\n",
    "\n",
    "$$H(t,D) =−1\\sum_{l ∈ levels(t)}(P(t=l)×log_{2}(P(t=l)))$$\n",
    "\n",
    "$$rem(d,D) = \\sum_{l ∈ levels(d)}\\frac{|D_{d=l}|}{|D|}× H(t,D_{d=l})$$\n",
    "\n",
    "$$IG(d,D) =H(t,D)−rem(d,D)$$\n",
    "\n",
    "where, \n",
    "\n",
    "**H(t,D)** = entropy of target feature,\n",
    "       \n",
    "   **rem(d,D)** = remaining impurity,\n",
    "       \n",
    "   **IG(d,D)** = information gain\n",
    "   \n",
    "   **$\\frac{|D_{d=l}|}{|D|}$** = weighting\n",
    "   \n",
    "   $H(t,D_{d=l})$ = entropy of partition $D_{d=l}$\n",
    "   \n",
    "   **D** = original data\n",
    "   \n",
    "   $D_{d=l}$ = subset of data for respective level \n",
    "   \n",
    "   \n",
    "   \n",
    "First, I created `subset for each level of descriptive features` and then I find the **impurity** of target variable `price for each subset`. \n",
    "\n",
    "Then, I find `weight for each subset` with eqation `lenght of each subset/length of original data`.\n",
    "\n",
    "Then, I find `remaining impurity` for `each descriptive feature` by above **rem(d,D)** equation.\n",
    "\n",
    "After that, I find `information gain` for `each descriptive feature` by `subtracting remaining impurity of respective feature from price entropy`."
   ]
  },
  {
   "cell_type": "code",
   "execution_count": 14,
   "metadata": {},
   "outputs": [
    {
     "name": "stdout",
     "output_type": "stream",
     "text": [
      "\n",
      "Good\n",
      "Partial Data for Good category of cut attribute\n",
      "    cut color       depth       carat price\n",
      "0  Good     D  category_2  category_1   low\n",
      "2  Good     I  category_1  category_1   low\n",
      "3  Good     F  category_1  category_1   low\n",
      "6  Good     D  category_2  category_1   low\n",
      "7  Good     D  category_2  category_1   low\n",
      "\n",
      "Fair\n",
      "Partial Data for Fair category of cut attribute\n",
      "     cut color       depth       carat price\n",
      "1   Fair     F  category_3  category_1   low\n",
      "4   Fair     F  category_3  category_1   low\n",
      "5   Fair     F  category_3  category_1   low\n",
      "9   Fair     F  category_3  category_1   low\n",
      "12  Fair     D  category_1  category_1   low\n",
      "\n",
      "\n",
      "Impurity of cut split [1.68, 1.78]\n",
      "Weight of cut split [0.717, 0.283]\n",
      "\n",
      "\n",
      "remaining impurity of cut: 1.708\n",
      "\n",
      "\n",
      "information gain of cut: 0.008\n",
      "--------------------------------------------------------------------------------\n",
      "\n",
      "D\n",
      "Partial Data for D category of color attribute\n",
      "     cut color       depth       carat price\n",
      "0   Good     D  category_2  category_1   low\n",
      "6   Good     D  category_2  category_1   low\n",
      "7   Good     D  category_2  category_1   low\n",
      "8   Good     D  category_2  category_1   low\n",
      "10  Good     D  category_1  category_1   low\n",
      "\n",
      "F\n",
      "Partial Data for F category of color attribute\n",
      "    cut color       depth       carat price\n",
      "1  Fair     F  category_3  category_1   low\n",
      "3  Good     F  category_1  category_1   low\n",
      "4  Fair     F  category_3  category_1   low\n",
      "5  Fair     F  category_3  category_1   low\n",
      "9  Fair     F  category_3  category_1   low\n",
      "\n",
      "I\n",
      "Partial Data for I category of color attribute\n",
      "     cut color       depth       carat price\n",
      "2   Good     I  category_1  category_1   low\n",
      "11  Good     I  category_2  category_2   low\n",
      "15  Good     I  category_2  category_2   low\n",
      "16  Good     I  category_2  category_2   low\n",
      "27  Fair     I  category_1  category_2   low\n",
      "\n",
      "\n",
      "Impurity of color split [1.657, 1.445, 1.833]\n",
      "Weight of color split [0.269, 0.434, 0.297]\n",
      "\n",
      "\n",
      "remaining impurity of color: 1.617\n",
      "\n",
      "\n",
      "information gain of color: 0.099\n",
      "--------------------------------------------------------------------------------\n",
      "\n",
      "category_2\n",
      "Partial Data for category_2 category of depth attribute\n",
      "     cut color       depth       carat price\n",
      "0   Good     D  category_2  category_1   low\n",
      "6   Good     D  category_2  category_1   low\n",
      "7   Good     D  category_2  category_1   low\n",
      "8   Good     D  category_2  category_1   low\n",
      "11  Good     I  category_2  category_2   low\n",
      "\n",
      "category_3\n",
      "Partial Data for category_3 category of depth attribute\n",
      "     cut color       depth       carat price\n",
      "1   Fair     F  category_3  category_1   low\n",
      "4   Fair     F  category_3  category_1   low\n",
      "5   Fair     F  category_3  category_1   low\n",
      "9   Fair     F  category_3  category_1   low\n",
      "17  Good     F  category_3  category_1   low\n",
      "\n",
      "category_1\n",
      "Partial Data for category_1 category of depth attribute\n",
      "     cut color       depth       carat price\n",
      "2   Good     I  category_1  category_1   low\n",
      "3   Good     F  category_1  category_1   low\n",
      "10  Good     D  category_1  category_1   low\n",
      "12  Fair     D  category_1  category_1   low\n",
      "13  Fair     F  category_1  category_1   low\n",
      "\n",
      "\n",
      "Impurity of depth split [1.517, 1.749, 1.74]\n",
      "Weight of depth split [0.349, 0.316, 0.335]\n",
      "\n",
      "\n",
      "remaining impurity of depth: 1.665\n",
      "\n",
      "\n",
      "information gain of depth: 0.051\n",
      "--------------------------------------------------------------------------------\n",
      "\n",
      "category_1\n",
      "Partial Data for category_1 category of carat attribute\n",
      "    cut color       depth       carat price\n",
      "0  Good     D  category_2  category_1   low\n",
      "1  Fair     F  category_3  category_1   low\n",
      "2  Good     I  category_1  category_1   low\n",
      "3  Good     F  category_1  category_1   low\n",
      "4  Fair     F  category_3  category_1   low\n",
      "\n",
      "category_2\n",
      "Partial Data for category_2 category of carat attribute\n",
      "     cut color       depth       carat price\n",
      "11  Good     I  category_2  category_2   low\n",
      "15  Good     I  category_2  category_2   low\n",
      "16  Good     I  category_2  category_2   low\n",
      "27  Fair     I  category_1  category_2   low\n",
      "34  Fair     I  category_1  category_2   low\n",
      "\n",
      "category_3\n",
      "Partial Data for category_3 category of carat attribute\n",
      "      cut color       depth       carat   price\n",
      "99   Good     I  category_2  category_3  medium\n",
      "103  Good     I  category_2  category_3  medium\n",
      "105  Good     I  category_1  category_3  medium\n",
      "119  Fair     I  category_3  category_3  medium\n",
      "124  Fair     I  category_3  category_3  medium\n",
      "\n",
      "\n",
      "Impurity of carat split [-0.0, 1.365, 1.529]\n",
      "Weight of carat split [0.335, 0.373, 0.292]\n",
      "\n",
      "\n",
      "remaining impurity of carat: 0.956\n",
      "\n",
      "\n",
      "information gain of carat: 0.76\n",
      "--------------------------------------------------------------------------------\n"
     ]
    }
   ],
   "source": [
    "# find remainder and information gain for each descriptive feature to determine the root node of the tree.\n",
    "\n",
    "price_entropy = round(impurity(df[\"price\"]),3)\n",
    "split = []\n",
    "remainder = []\n",
    "info_gain = []\n",
    "\n",
    "for index in df.iloc[:,0:4]:  # for loop for every descriptive feature\n",
    "    impurity_list = list()    # creating impurity list and weight to store impurity and weight for each category for each feature\n",
    "    weight_list = list()\n",
    "    split.append(index)       # appending feature name to the split list\n",
    "   \n",
    "    for category in df[index].unique():  # for loop for each unique value of respective feature\n",
    "        print(\"\\n\" + category)\n",
    "        df_category = df[df[index] == category]   # defining subset for each unique value of respective feature\n",
    "        print(\"Partial Data for \" + category +\" category of \" +  index + \" attribute\")\n",
    "        print(df_category.head())                 # printing the subset for each unique value of respective feature\n",
    "        \n",
    "        # finding impurity for the target variable price from each subset with entropy method\n",
    "        impurity_ = round(impurity(df_category[\"price\"]),3)\n",
    "        \n",
    "        # finding weight for each unique value of respective feature\n",
    "        weight = round((len(df_category))/(len(df)),3)\n",
    "        \n",
    "        # appending impurity and weight of each category of respective feature to list\n",
    "        impurity_list.append(impurity_)\n",
    "        weight_list.append(weight)\n",
    "\n",
    "    # showing Impurity and Weight    \n",
    "    print(\"\\n\")\n",
    "    print(\"Impurity of \" + index + \" split\" , impurity_list)\n",
    "    print(\"Weight of \" + index + \" split\", weight_list)\n",
    "\n",
    "    # finding and printing the remaining impurity\n",
    "    print(\"\\n\")\n",
    "    remaining_impurity = round(np.sum(np.array(impurity_list) * np.array(weight_list)),3)\n",
    "    print(\"remaining impurity of \" + index +\":\" , remaining_impurity)\n",
    "\n",
    "    # finding and printing the imformation gain\n",
    "    print(\"\\n\")\n",
    "    information_gain = round(price_entropy - remaining_impurity,3)\n",
    "    print(\"information gain of \" + index + \":\", information_gain)\n",
    "    \n",
    "    # appending remaining impurity and information gain to the respective lists\n",
    "    remainder.append(remaining_impurity)\n",
    "    info_gain.append(information_gain)\n",
    "    \n",
    "    print(\"--------------------------------------------------------------------------------\")\n"
   ]
  },
  {
   "cell_type": "markdown",
   "metadata": {},
   "source": [
    "I created the data frame **df_splits**."
   ]
  },
  {
   "cell_type": "code",
   "execution_count": 15,
   "metadata": {},
   "outputs": [
    {
     "data": {
      "text/html": [
       "<div>\n",
       "<style scoped>\n",
       "    .dataframe tbody tr th:only-of-type {\n",
       "        vertical-align: middle;\n",
       "    }\n",
       "\n",
       "    .dataframe tbody tr th {\n",
       "        vertical-align: top;\n",
       "    }\n",
       "\n",
       "    .dataframe thead th {\n",
       "        text-align: right;\n",
       "    }\n",
       "</style>\n",
       "<table border=\"1\" class=\"dataframe\">\n",
       "  <thead>\n",
       "    <tr style=\"text-align: right;\">\n",
       "      <th></th>\n",
       "      <th>split</th>\n",
       "      <th>remainder</th>\n",
       "      <th>info_gain</th>\n",
       "    </tr>\n",
       "  </thead>\n",
       "  <tbody>\n",
       "    <tr>\n",
       "      <th>0</th>\n",
       "      <td>cut</td>\n",
       "      <td>1.708</td>\n",
       "      <td>0.008</td>\n",
       "    </tr>\n",
       "    <tr>\n",
       "      <th>1</th>\n",
       "      <td>color</td>\n",
       "      <td>1.617</td>\n",
       "      <td>0.099</td>\n",
       "    </tr>\n",
       "    <tr>\n",
       "      <th>2</th>\n",
       "      <td>depth</td>\n",
       "      <td>1.665</td>\n",
       "      <td>0.051</td>\n",
       "    </tr>\n",
       "    <tr>\n",
       "      <th>3</th>\n",
       "      <td>carat</td>\n",
       "      <td>0.956</td>\n",
       "      <td>0.760</td>\n",
       "    </tr>\n",
       "  </tbody>\n",
       "</table>\n",
       "</div>"
      ],
      "text/plain": [
       "   split  remainder  info_gain\n",
       "0    cut      1.708      0.008\n",
       "1  color      1.617      0.099\n",
       "2  depth      1.665      0.051\n",
       "3  carat      0.956      0.760"
      ]
     },
     "execution_count": 15,
     "metadata": {},
     "output_type": "execute_result"
    }
   ],
   "source": [
    "# creat the data_fram df_splits\n",
    "\n",
    "df_splits = pd.DataFrame(list(zip(split, remainder, info_gain)),\n",
    "               columns =[\"split\", \"remainder\",\"info_gain\"])\n",
    "df_splits"
   ]
  },
  {
   "cell_type": "code",
   "execution_count": 16,
   "metadata": {},
   "outputs": [
    {
     "data": {
      "text/html": [
       "<div>\n",
       "<style scoped>\n",
       "    .dataframe tbody tr th:only-of-type {\n",
       "        vertical-align: middle;\n",
       "    }\n",
       "\n",
       "    .dataframe tbody tr th {\n",
       "        vertical-align: top;\n",
       "    }\n",
       "\n",
       "    .dataframe thead th {\n",
       "        text-align: right;\n",
       "    }\n",
       "</style>\n",
       "<table border=\"1\" class=\"dataframe\">\n",
       "  <thead>\n",
       "    <tr style=\"text-align: right;\">\n",
       "      <th></th>\n",
       "      <th>split</th>\n",
       "      <th>remainder</th>\n",
       "      <th>info_gain</th>\n",
       "      <th>is_optimal</th>\n",
       "    </tr>\n",
       "  </thead>\n",
       "  <tbody>\n",
       "    <tr>\n",
       "      <th>0</th>\n",
       "      <td>cut</td>\n",
       "      <td>1.708</td>\n",
       "      <td>0.008</td>\n",
       "      <td>False</td>\n",
       "    </tr>\n",
       "    <tr>\n",
       "      <th>1</th>\n",
       "      <td>color</td>\n",
       "      <td>1.617</td>\n",
       "      <td>0.099</td>\n",
       "      <td>False</td>\n",
       "    </tr>\n",
       "    <tr>\n",
       "      <th>2</th>\n",
       "      <td>depth</td>\n",
       "      <td>1.665</td>\n",
       "      <td>0.051</td>\n",
       "      <td>False</td>\n",
       "    </tr>\n",
       "    <tr>\n",
       "      <th>3</th>\n",
       "      <td>carat</td>\n",
       "      <td>0.956</td>\n",
       "      <td>0.760</td>\n",
       "      <td>True</td>\n",
       "    </tr>\n",
       "  </tbody>\n",
       "</table>\n",
       "</div>"
      ],
      "text/plain": [
       "   split  remainder  info_gain  is_optimal\n",
       "0    cut      1.708      0.008       False\n",
       "1  color      1.617      0.099       False\n",
       "2  depth      1.665      0.051       False\n",
       "3  carat      0.956      0.760        True"
      ]
     },
     "execution_count": 16,
     "metadata": {},
     "output_type": "execute_result"
    }
   ],
   "source": [
    "# adding the column is_optimal to df_splits\n",
    "\n",
    "df_splits['is_optimal'] = np.where(df_splits['info_gain']== max(df_splits[\"info_gain\"]), True, False)\n",
    "df_splits"
   ]
  },
  {
   "cell_type": "markdown",
   "metadata": {},
   "source": [
    "From the dataframe **df_splits**, carat has **highest info_gain**, so, our root node for depth 1 decision tree will be **`carat`**.\n",
    "\n",
    "It means that, if we select **`carat`** as **root node**, then it is more likely that we would have **`pure subsets`** of target variable where each subset have the same `classification`."
   ]
  },
  {
   "cell_type": "markdown",
   "metadata": {},
   "source": [
    "### Part D <a name = \"d\"></a>"
   ]
  },
  {
   "cell_type": "markdown",
   "metadata": {},
   "source": [
    "Here, I have taken `carat` as a **root node**. Then, I created subset for every level of `carat variable` ***(category_1, category_2, category_3)*** .  \n",
    "\n",
    "Then, I find probability of each level of `target variable` ***(low, medium, high, premium)*** within each carat level."
   ]
  },
  {
   "cell_type": "code",
   "execution_count": 17,
   "metadata": {},
   "outputs": [
    {
     "name": "stdout",
     "output_type": "stream",
     "text": [
      "category_1\n",
      "71\n",
      "    cut color       depth       carat price\n",
      "0  Good     D  category_2  category_1   low\n",
      "1  Fair     F  category_3  category_1   low\n",
      "2  Good     I  category_1  category_1   low\n",
      "3  Good     F  category_1  category_1   low\n",
      "4  Fair     F  category_3  category_1   low\n",
      "category_2\n",
      "79\n",
      "     cut color       depth       carat price\n",
      "11  Good     I  category_2  category_2   low\n",
      "15  Good     I  category_2  category_2   low\n",
      "16  Good     I  category_2  category_2   low\n",
      "27  Fair     I  category_1  category_2   low\n",
      "34  Fair     I  category_1  category_2   low\n",
      "category_3\n",
      "62\n",
      "      cut color       depth       carat   price\n",
      "99   Good     I  category_2  category_3  medium\n",
      "103  Good     I  category_2  category_3  medium\n",
      "105  Good     I  category_1  category_3  medium\n",
      "119  Fair     I  category_3  category_3  medium\n",
      "124  Fair     I  category_3  category_3  medium\n"
     ]
    }
   ],
   "source": [
    "# creat lists\n",
    "leaf_condition = []\n",
    "low_price_prob  = []\n",
    "medium_price_prob = []\n",
    "high_price_prob = []\n",
    "premium_price_prob = []\n",
    "\n",
    "\n",
    "for index in df[\"carat\"].unique(): # creating for loop for every category of carat\n",
    "    leaf_condition.append(index)   # appending the category name\n",
    "    print(index)\n",
    "    df_leaf_condition = df[df[\"carat\"] == index]  # creatinf subset of every carat category\n",
    "    print(len(df_leaf_condition))\n",
    "    print(df_leaf_condition.head())\n",
    "    \n",
    "    # finding the probability of each unique value of price for every category of carat\n",
    "    low_price_ = round((len(df_leaf_condition[df_leaf_condition[\"price\"]==\"low\"])/len(df_leaf_condition)),3)\n",
    "    medium_price_ = round((len(df_leaf_condition[df_leaf_condition[\"price\"]==\"medium\"])/len(df_leaf_condition)),3)\n",
    "    high_price_ = round((len(df_leaf_condition[df_leaf_condition[\"price\"]==\"high\"])/len(df_leaf_condition)),3)\n",
    "    premium_price_ = round((len(df_leaf_condition[df_leaf_condition[\"price\"]==\"premium\"])/len(df_leaf_condition)),3)\n",
    "\n",
    "    # appending the probability to respected list\n",
    "    low_price_prob.append(low_price_)\n",
    "    medium_price_prob.append(medium_price_)\n",
    "    high_price_prob.append(high_price_)\n",
    "    premium_price_prob.append(premium_price_)"
   ]
  },
  {
   "cell_type": "code",
   "execution_count": 18,
   "metadata": {},
   "outputs": [
    {
     "data": {
      "text/html": [
       "<div>\n",
       "<style scoped>\n",
       "    .dataframe tbody tr th:only-of-type {\n",
       "        vertical-align: middle;\n",
       "    }\n",
       "\n",
       "    .dataframe tbody tr th {\n",
       "        vertical-align: top;\n",
       "    }\n",
       "\n",
       "    .dataframe thead th {\n",
       "        text-align: right;\n",
       "    }\n",
       "</style>\n",
       "<table border=\"1\" class=\"dataframe\">\n",
       "  <thead>\n",
       "    <tr style=\"text-align: right;\">\n",
       "      <th></th>\n",
       "      <th>leaf_condition</th>\n",
       "      <th>low_price_prob</th>\n",
       "      <th>medium_price_prob</th>\n",
       "      <th>high_price_prob</th>\n",
       "      <th>premium_price_prob</th>\n",
       "    </tr>\n",
       "  </thead>\n",
       "  <tbody>\n",
       "    <tr>\n",
       "      <th>0</th>\n",
       "      <td>category_1</td>\n",
       "      <td>1.000</td>\n",
       "      <td>0.000</td>\n",
       "      <td>0.000</td>\n",
       "      <td>0.000</td>\n",
       "    </tr>\n",
       "    <tr>\n",
       "      <th>1</th>\n",
       "      <td>category_2</td>\n",
       "      <td>0.278</td>\n",
       "      <td>0.608</td>\n",
       "      <td>0.101</td>\n",
       "      <td>0.013</td>\n",
       "    </tr>\n",
       "    <tr>\n",
       "      <th>2</th>\n",
       "      <td>category_3</td>\n",
       "      <td>0.000</td>\n",
       "      <td>0.419</td>\n",
       "      <td>0.371</td>\n",
       "      <td>0.210</td>\n",
       "    </tr>\n",
       "  </tbody>\n",
       "</table>\n",
       "</div>"
      ],
      "text/plain": [
       "  leaf_condition  low_price_prob  medium_price_prob  high_price_prob  \\\n",
       "0     category_1           1.000              0.000            0.000   \n",
       "1     category_2           0.278              0.608            0.101   \n",
       "2     category_3           0.000              0.419            0.371   \n",
       "\n",
       "   premium_price_prob  \n",
       "0               0.000  \n",
       "1               0.013  \n",
       "2               0.210  "
      ]
     },
     "execution_count": 18,
     "metadata": {},
     "output_type": "execute_result"
    }
   ],
   "source": [
    "# creating data_frame df_pred\n",
    "\n",
    "df_pred = pd.DataFrame(list(zip(leaf_condition, low_price_prob, medium_price_prob, high_price_prob, premium_price_prob)),\n",
    "               columns =[\"leaf_condition\", \"low_price_prob\",\"medium_price_prob\",\"high_price_prob\",\"premium_price_prob\"])\n",
    "df_pred"
   ]
  },
  {
   "cell_type": "markdown",
   "metadata": {},
   "source": [
    "To find the `leaf_prediction` of price variable, we check the `highest probabilty of price level within each carat category`, for instance, low_price_prob is highest within category_1 carat, so leaf_prediction of category_1 carat would be low price.\n",
    "\n",
    "medium_price_prob is highest for category_2 carat, so leaf_prediction will be medium."
   ]
  },
  {
   "cell_type": "code",
   "execution_count": 19,
   "metadata": {},
   "outputs": [
    {
     "data": {
      "text/html": [
       "<div>\n",
       "<style scoped>\n",
       "    .dataframe tbody tr th:only-of-type {\n",
       "        vertical-align: middle;\n",
       "    }\n",
       "\n",
       "    .dataframe tbody tr th {\n",
       "        vertical-align: top;\n",
       "    }\n",
       "\n",
       "    .dataframe thead th {\n",
       "        text-align: right;\n",
       "    }\n",
       "</style>\n",
       "<table border=\"1\" class=\"dataframe\">\n",
       "  <thead>\n",
       "    <tr style=\"text-align: right;\">\n",
       "      <th></th>\n",
       "      <th>leaf_condition</th>\n",
       "      <th>low_price_prob</th>\n",
       "      <th>medium_price_prob</th>\n",
       "      <th>high_price_prob</th>\n",
       "      <th>premium_price_prob</th>\n",
       "      <th>leaf_prediction</th>\n",
       "    </tr>\n",
       "  </thead>\n",
       "  <tbody>\n",
       "    <tr>\n",
       "      <th>0</th>\n",
       "      <td>category_1</td>\n",
       "      <td>1.000</td>\n",
       "      <td>0.000</td>\n",
       "      <td>0.000</td>\n",
       "      <td>0.000</td>\n",
       "      <td>low price</td>\n",
       "    </tr>\n",
       "    <tr>\n",
       "      <th>1</th>\n",
       "      <td>category_2</td>\n",
       "      <td>0.278</td>\n",
       "      <td>0.608</td>\n",
       "      <td>0.101</td>\n",
       "      <td>0.013</td>\n",
       "      <td>medium price</td>\n",
       "    </tr>\n",
       "    <tr>\n",
       "      <th>2</th>\n",
       "      <td>category_3</td>\n",
       "      <td>0.000</td>\n",
       "      <td>0.419</td>\n",
       "      <td>0.371</td>\n",
       "      <td>0.210</td>\n",
       "      <td>medium price</td>\n",
       "    </tr>\n",
       "  </tbody>\n",
       "</table>\n",
       "</div>"
      ],
      "text/plain": [
       "  leaf_condition  low_price_prob  medium_price_prob  high_price_prob  \\\n",
       "0     category_1           1.000              0.000            0.000   \n",
       "1     category_2           0.278              0.608            0.101   \n",
       "2     category_3           0.000              0.419            0.371   \n",
       "\n",
       "   premium_price_prob leaf_prediction  \n",
       "0               0.000       low price  \n",
       "1               0.013    medium price  \n",
       "2               0.210    medium price  "
      ]
     },
     "execution_count": 19,
     "metadata": {},
     "output_type": "execute_result"
    }
   ],
   "source": [
    "# adding column leaf_prediction to df_pred\n",
    "\n",
    "prediction = [\"low price\", \"medium price\", \"medium price\"]\n",
    "df_pred['leaf_prediction'] = prediction\n",
    "df_pred"
   ]
  },
  {
   "cell_type": "markdown",
   "metadata": {},
   "source": [
    "Above data-frame depicts that, if carat is of `category_1`, then it is `100% from low price category`, there is `pure subset` for category_1 carat.\n",
    "\n",
    "but, if carat is of `category_2`, then it is `60% chance that, it has medium price`. \n",
    "\n",
    "While, for `category_3` carat, there is `0% chance that diamond has low price`."
   ]
  }
 ],
 "metadata": {
  "kernelspec": {
   "display_name": "Python 3",
   "language": "python",
   "name": "python3"
  },
  "language_info": {
   "codemirror_mode": {
    "name": "ipython",
    "version": 3
   },
   "file_extension": ".py",
   "mimetype": "text/x-python",
   "name": "python",
   "nbconvert_exporter": "python",
   "pygments_lexer": "ipython3",
   "version": "3.7.6"
  }
 },
 "nbformat": 4,
 "nbformat_minor": 4
}
